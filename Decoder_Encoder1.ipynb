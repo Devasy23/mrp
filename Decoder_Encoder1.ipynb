{
  "nbformat": 4,
  "nbformat_minor": 0,
  "metadata": {
    "colab": {
      "provenance": [],
      "authorship_tag": "ABX9TyPPuAB9NvK0OCUmyDX4yRpe",
      "include_colab_link": true
    },
    "kernelspec": {
      "name": "python3",
      "display_name": "Python 3"
    },
    "language_info": {
      "name": "python"
    }
  },
  "cells": [
    {
      "cell_type": "markdown",
      "metadata": {
        "id": "view-in-github",
        "colab_type": "text"
      },
      "source": [
        "<a href=\"https://colab.research.google.com/github/Devasy23/mrp/blob/main/Decoder_Encoder1.ipynb\" target=\"_parent\"><img src=\"https://colab.research.google.com/assets/colab-badge.svg\" alt=\"Open In Colab\"/></a>"
      ]
    },
    {
      "cell_type": "code",
      "source": [
        "!pip install opencv-python\n"
      ],
      "metadata": {
        "colab": {
          "base_uri": "https://localhost:8080/"
        },
        "id": "Y4izvToaAeqj",
        "outputId": "7ad9e9f2-27b8-4363-cfa2-96acc1ba9331"
      },
      "execution_count": 3,
      "outputs": [
        {
          "output_type": "stream",
          "name": "stdout",
          "text": [
            "Looking in indexes: https://pypi.org/simple, https://us-python.pkg.dev/colab-wheels/public/simple/\n",
            "Requirement already satisfied: opencv-python in /usr/local/lib/python3.10/dist-packages (4.7.0.72)\n",
            "Requirement already satisfied: numpy>=1.21.2 in /usr/local/lib/python3.10/dist-packages (from opencv-python) (1.22.4)\n"
          ]
        }
      ]
    },
    {
      "cell_type": "code",
      "execution_count": 8,
      "metadata": {
        "id": "QHlJp8k9ATZN"
      },
      "outputs": [],
      "source": [
        "import cv2\n",
        "import numpy as np\n",
        "import struct\n",
        "import os\n",
        "import zlib"
      ]
    },
    {
      "cell_type": "code",
      "source": [
        "zip_file_path = 'input.zip'\n",
        "video_file_path = 'video.mp4'\n"
      ],
      "metadata": {
        "id": "shMdSGEQDMQv"
      },
      "execution_count": 5,
      "outputs": []
    },
    {
      "cell_type": "code",
      "source": [
        "with open(zip_file_path, 'rb') as f:\n",
        "    binary_data = f.read()\n"
      ],
      "metadata": {
        "id": "_iEgCZ27DOwp"
      },
      "execution_count": 6,
      "outputs": []
    },
    {
      "cell_type": "code",
      "source": [
        "compressed_data = zlib.compress(binary_data)\n",
        "\n"
      ],
      "metadata": {
        "id": "iWVXgwRsDRDj"
      },
      "execution_count": 9,
      "outputs": []
    },
    {
      "cell_type": "code",
      "source": [
        "cap = cv2.VideoCapture(video_file_path)\n",
        "\n",
        "frames = []\n",
        "while(cap.isOpened()):\n",
        "    ret, frame = cap.read()\n",
        "    if ret == False:\n",
        "        break\n",
        "    frames.append(frame)\n",
        "\n",
        "cap.release()\n"
      ],
      "metadata": {
        "id": "Kr6cTtgUDS4e"
      },
      "execution_count": 10,
      "outputs": []
    },
    {
      "cell_type": "code",
      "source": [
        "chunk_size = 100  # adjust this value based on the size of the compressed data and the resolution of the video\n",
        "\n",
        "chunks = [compressed_data[i:i+chunk_size] for i in range(0, len(compressed_data), chunk_size)]\n"
      ],
      "metadata": {
        "id": "-pehGZ6dDatV"
      },
      "execution_count": 11,
      "outputs": []
    },
    {
      "cell_type": "code",
      "source": [
        "for i, chunk in enumerate(chunks):\n",
        "    binary_str = ''.join(format(byte, '08b') for byte in chunk)  # convert the binary data to a string of 0s and 1s\n",
        "    binary_list = [int(bit) for bit in binary_str]  # convert the string to a list of integers\n",
        "\n",
        "    frame = frames[i % len(frames)]  # repeat the frames if the number of chunks exceeds the number of frames\n",
        "\n",
        "    for j, pixel in enumerate(frame.reshape(-1, 3)):\n",
        "        if j >= len(binary_list):\n",
        "            break\n",
        "\n",
        "        pixel[2] = (pixel[2] & 0b11111110) | binary_list[j]  # modify the least significant bit of the red channel\n"
      ],
      "metadata": {
        "colab": {
          "base_uri": "https://localhost:8080/",
          "height": 235
        },
        "id": "6qbUBeTbDdYt",
        "outputId": "df1d8f34-ad72-42be-dc70-27785f391e22"
      },
      "execution_count": 12,
      "outputs": [
        {
          "output_type": "error",
          "ename": "ZeroDivisionError",
          "evalue": "ignored",
          "traceback": [
            "\u001b[0;31m---------------------------------------------------------------------------\u001b[0m",
            "\u001b[0;31mZeroDivisionError\u001b[0m                         Traceback (most recent call last)",
            "\u001b[0;32m<ipython-input-12-e2760f624d9f>\u001b[0m in \u001b[0;36m<cell line: 1>\u001b[0;34m()\u001b[0m\n\u001b[1;32m      3\u001b[0m     \u001b[0mbinary_list\u001b[0m \u001b[0;34m=\u001b[0m \u001b[0;34m[\u001b[0m\u001b[0mint\u001b[0m\u001b[0;34m(\u001b[0m\u001b[0mbit\u001b[0m\u001b[0;34m)\u001b[0m \u001b[0;32mfor\u001b[0m \u001b[0mbit\u001b[0m \u001b[0;32min\u001b[0m \u001b[0mbinary_str\u001b[0m\u001b[0;34m]\u001b[0m  \u001b[0;31m# convert the string to a list of integers\u001b[0m\u001b[0;34m\u001b[0m\u001b[0;34m\u001b[0m\u001b[0m\n\u001b[1;32m      4\u001b[0m \u001b[0;34m\u001b[0m\u001b[0m\n\u001b[0;32m----> 5\u001b[0;31m     \u001b[0mframe\u001b[0m \u001b[0;34m=\u001b[0m \u001b[0mframes\u001b[0m\u001b[0;34m[\u001b[0m\u001b[0mi\u001b[0m \u001b[0;34m%\u001b[0m \u001b[0mlen\u001b[0m\u001b[0;34m(\u001b[0m\u001b[0mframes\u001b[0m\u001b[0;34m)\u001b[0m\u001b[0;34m]\u001b[0m  \u001b[0;31m# repeat the frames if the number of chunks exceeds the number of frames\u001b[0m\u001b[0;34m\u001b[0m\u001b[0;34m\u001b[0m\u001b[0m\n\u001b[0m\u001b[1;32m      6\u001b[0m \u001b[0;34m\u001b[0m\u001b[0m\n\u001b[1;32m      7\u001b[0m     \u001b[0;32mfor\u001b[0m \u001b[0mj\u001b[0m\u001b[0;34m,\u001b[0m \u001b[0mpixel\u001b[0m \u001b[0;32min\u001b[0m \u001b[0menumerate\u001b[0m\u001b[0;34m(\u001b[0m\u001b[0mframe\u001b[0m\u001b[0;34m.\u001b[0m\u001b[0mreshape\u001b[0m\u001b[0;34m(\u001b[0m\u001b[0;34m-\u001b[0m\u001b[0;36m1\u001b[0m\u001b[0;34m,\u001b[0m \u001b[0;36m3\u001b[0m\u001b[0;34m)\u001b[0m\u001b[0;34m)\u001b[0m\u001b[0;34m:\u001b[0m\u001b[0;34m\u001b[0m\u001b[0;34m\u001b[0m\u001b[0m\n",
            "\u001b[0;31mZeroDivisionError\u001b[0m: integer division or modulo by zero"
          ]
        }
      ]
    },
    {
      "cell_type": "code",
      "source": [
        "import cv2\n",
        "import zipfile\n",
        "import numpy as np\n",
        "# gpt4\n",
        "def encode_zip_to_video(zip_filename, video_filename, width=1920, height=1080):\n",
        "    with zipfile.ZipFile(zip_filename, 'r') as zfile:\n",
        "        zip_data = zfile.read(zfile.namelist()[0])\n",
        "\n",
        "    bitstream = [int(b) for byte in zip_data for b in format(byte, '08b')]\n",
        "\n",
        "    frame_size = width * height\n",
        "    num_frames = (len(bitstream) + frame_size - 1) // frame_size\n",
        "\n",
        "    fourcc = cv2.VideoWriter_fourcc(*'MP4V')\n",
        "    video_writer = cv2.VideoWriter(video_filename, fourcc, 30, (width, height), isColor=False)\n",
        "\n",
        "    for i in range(num_frames):\n",
        "        frame_data = bitstream[i * frame_size:(i + 1) * frame_size]\n",
        "        frame_data += [0] * (frame_size - len(frame_data))\n",
        "\n",
        "        frame = np.array(frame_data, dtype=np.uint8).reshape((height, width))\n",
        "        video_writer.write(frame)\n",
        "\n",
        "    video_writer.release()\n",
        "\n",
        "if __name__ == '__main__':\n",
        "    encode_zip_to_video('input.zip', 'output.mp4')\n"
      ],
      "metadata": {
        "id": "6AU4gjKHEVES"
      },
      "execution_count": 14,
      "outputs": []
    },
    {
      "cell_type": "code",
      "source": [
        "# bard\n",
        "import cv2\n",
        "import zipfile\n",
        "import numpy as np\n",
        "\n",
        "def encode_zip_to_video(zip_filename, video_filename, width=1920, height=1080, frame_rate=30, color_mode='rgb'):\n",
        "    if not os.path.exists(zip_filename):\n",
        "        raise FileNotFoundError(f'The zip file {zip_filename} does not exist.')\n",
        "\n",
        "    if os.path.exists(video_filename):\n",
        "        raise FileExistsError(f'The video file {video_filename} already exists.')\n",
        "\n",
        "    with zipfile.ZipFile(zip_filename, 'r') as zfile:\n",
        "        zip_data = zfile.read(zfile.namelist()[0])\n",
        "\n",
        "    bitstream = [int(b) for byte in zip_data for b in format(byte, '08b')]\n",
        "\n",
        "    frame_size = width * height * 3 if color_mode == 'rgb' else width * height\n",
        "    num_frames = (len(bitstream) + frame_size - 1) // frame_size\n",
        "\n",
        "    fourcc = cv2.VideoWriter_fourcc(*'MP4V')\n",
        "    video_writer = cv2.VideoWriter(video_filename, fourcc, frame_rate, (width, height), color_mode == 'rgb')\n",
        "\n",
        "    for i in range(num_frames):\n",
        "        frame_data = bitstream[i * frame_size:(i + 1) * frame_size]\n",
        "        frame_data += [0] * (frame_size - len(frame_data))\n",
        "\n",
        "        frame = np.array(frame_data, dtype=np.uint8).reshape((height, width, 3 if color_mode == 'rgb' else 1))\n",
        "        video_writer.write(frame)\n",
        "\n",
        "    video_writer.release()\n",
        "\n",
        "if __name__ == '__main__':\n",
        "    encode_zip_to_video('input.zip', 'output.mp4')"
      ],
      "metadata": {
        "id": "FrtE7oP_gBJj"
      },
      "execution_count": 19,
      "outputs": []
    },
    {
      "cell_type": "code",
      "source": [
        "#  bard 2\n",
        "import cv2\n",
        "import zipfile\n",
        "import numpy as np\n",
        "\n",
        "def encode_zip_to_video(zip_filename, video_filename, width=1920, height=1080):\n",
        "    with zipfile.ZipFile(zip_filename, 'r') as zfile:\n",
        "        zip_data = zfile.read(zfile.namelist()[0])\n",
        "\n",
        "    bitstream = [int(b) for byte in zip_data for b in format(byte, '08b')]\n",
        "\n",
        "    frame_size = width * height\n",
        "    num_frames = (len(bitstream) + frame_size - 1) // frame_size\n",
        "\n",
        "    fourcc = cv2.VideoWriter_fourcc(*'MP4V')\n",
        "    video_writer = cv2.VideoWriter(video_filename, fourcc, 30, (width, height), isColor=False)\n",
        "\n",
        "    for i in range(num_frames):\n",
        "        frame_data = bitstream[i * frame_size:(i + 1) * frame_size]\n",
        "        frame_data += [0] * (frame_size - len(frame_data))\n",
        "\n",
        "        frame = np.array(frame_data, dtype=np.uint8).reshape((height, width))\n",
        "        video_writer.write(frame)\n",
        "\n",
        "    video_writer.release()\n",
        "\n",
        "if __name__ == '__main__':\n",
        "    encode_zip_to_video('input.zip', 'output.mp4')\n"
      ],
      "metadata": {
        "id": "noEP_zQJgh9f"
      },
      "execution_count": 20,
      "outputs": []
    },
    {
      "cell_type": "code",
      "source": [
        "import cv2\n",
        "import numpy as np\n",
        "\n",
        "def decode_video_to_zip(video_filename, output_zip_filename):\n",
        "    video_capture = cv2.VideoCapture(video_filename)\n",
        "    width = int(video_capture.get(cv2.CAP_PROP_FRAME_WIDTH))\n",
        "    height = int(video_capture.get(cv2.CAP_PROP_FRAME_HEIGHT))\n",
        "    frame_size = width * height\n",
        "\n",
        "    bitstream = []\n",
        "\n",
        "    while True:\n",
        "        ret, frame = video_capture.read()\n",
        "        if not ret:\n",
        "            break\n",
        "\n",
        "        frame_bits = frame.flatten().tolist()\n",
        "        bitstream.extend(frame_bits)\n",
        "\n",
        "    video_capture.release()\n",
        "\n",
        "    # Remove the padding zeroes, if any\n",
        "    # bitstream = bitstream[:bitstream.index(1)]\n",
        "\n",
        "    # Convert the bitstream back to bytes\n",
        "    byte_data = bytearray()\n",
        "    for i in range(0, len(bitstream), 8):\n",
        "        byte = int(''.join(map(str, bitstream[i:i + 8])), 2)\n",
        "        byte_data.append(byte)\n",
        "\n",
        "    # Save the byte data to a zip file\n",
        "    with open(output_zip_filename, 'wb') as output_zip_file:\n",
        "        output_zip_file.write(byte_data)\n",
        "\n",
        "if __name__ == '__main__':\n",
        "    decode_video_to_zip('output.mp4', 'decoded_output.zip')\n"
      ],
      "metadata": {
        "id": "UAAxDIa4ekUh"
      },
      "execution_count": 16,
      "outputs": []
    },
    {
      "cell_type": "code",
      "source": [
        "# bard\n",
        "import cv2\n",
        "import numpy as np\n",
        "\n",
        "def decode_video_to_zip(video_filename, output_zip_filename):\n",
        "    video_capture = cv2.VideoCapture(video_filename)\n",
        "    width = int(video_capture.get(cv2.CAP_PROP_FRAME_WIDTH))\n",
        "    height = int(video_capture.get(cv2.CAP_PROP_FRAME_HEIGHT))\n",
        "    frame_size = width * height\n",
        "\n",
        "    bitstream = []\n",
        "\n",
        "    while True:\n",
        "        ret, frame = video_capture.read()\n",
        "        if not ret:\n",
        "            break\n",
        "\n",
        "        frame_bits = frame.flatten().tolist()\n",
        "        bitstream.extend(frame_bits)\n",
        "\n",
        "    video_capture.release()\n",
        "\n",
        "    # Remove the padding zeroes, if any\n",
        "    for i in range(len(bitstream) - 1, -1, -1):\n",
        "        if bitstream[i] == 0:\n",
        "            bitstream.pop(i)\n",
        "\n",
        "    # Convert the bitstream back to bytes\n",
        "    byte_data = bytearray()\n",
        "    for i in range(0, len(bitstream), 8):\n",
        "        byte = int(''.join(map(str, bitstream[i:i + 8])), 2)\n",
        "        byte_data.append(byte)\n",
        "\n",
        "    # Save the byte data to a zip file\n",
        "    with zipfile.ZipFile(output_zip_filename, 'w') as zfile:\n",
        "        zfile.writestr(zfile.namelist()[0], bytes(byte_data))\n",
        "\n",
        "if __name__ == '__main__':\n",
        "    decode_video_to_zip('output.mp4', 'decoded_output.zip')\n"
      ],
      "metadata": {
        "id": "NTDEybAqhkO1"
      },
      "execution_count": null,
      "outputs": []
    },
    {
      "cell_type": "code",
      "source": [],
      "metadata": {
        "id": "MyL1bx6Shk86"
      },
      "execution_count": null,
      "outputs": []
    }
  ]
}